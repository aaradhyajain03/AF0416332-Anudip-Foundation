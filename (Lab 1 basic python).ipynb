{
 "cells": [
  {
   "cell_type": "code",
   "execution_count": 1,
   "id": "79253aaf-7fae-44d6-858f-4e53af1b9ae4",
   "metadata": {},
   "outputs": [
    {
     "name": "stdin",
     "output_type": "stream",
     "text": [
      "Enter a number:  45\n"
     ]
    },
    {
     "name": "stdout",
     "output_type": "stream",
     "text": [
      "Odd\n"
     ]
    }
   ],
   "source": [
    "#ques 1\n",
    "'''Using input() function take one number from the user and using ternary operators check whether the number is even or odd '''\n",
    "number = int(input(\"Enter a number: \"))\n",
    "result = \"Even\" if number % 2 == 0 else \"Odd\"\n",
    "print(result)\n"
   ]
  },
  {
   "cell_type": "code",
   "execution_count": 2,
   "id": "e996f60f-40e9-49f4-9007-7a3a799acd82",
   "metadata": {},
   "outputs": [
    {
     "name": "stdin",
     "output_type": "stream",
     "text": [
      "Enter the first number:  23\n",
      "Enter the second number:  45\n"
     ]
    },
    {
     "name": "stdout",
     "output_type": "stream",
     "text": [
      "After swapping:\n",
      "First number: 45\n",
      "Second number: 23\n"
     ]
    }
   ],
   "source": [
    "#ques2\n",
    "''' Using input function take two number and then swap the number'''\n",
    "num1 = int(input(\"Enter the first number: \"))\n",
    "num2 = int(input(\"Enter the second number: \"))\n",
    "num1, num2 = num2, num1\n",
    "print(\"After swapping:\")\n",
    "print(\"First number:\", num1)\n",
    "print(\"Second number:\", num2)\n"
   ]
  },
  {
   "cell_type": "code",
   "execution_count": 3,
   "id": "580c7bc0-0f24-40be-af6f-b2087625d66a",
   "metadata": {},
   "outputs": [
    {
     "name": "stdin",
     "output_type": "stream",
     "text": [
      "Enter distance in kilometers:  36\n"
     ]
    },
    {
     "name": "stdout",
     "output_type": "stream",
     "text": [
      "36.0 kilometers is equal to 22.369356 miles.\n"
     ]
    }
   ],
   "source": [
    "#ques3\n",
    "'''Write a Program to Convert Kilometers to Miles'''\n",
    "kilometers = float(input(\"Enter distance in kilometers: \"))\n",
    "conversion_factor = 0.621371\n",
    "miles = kilometers * conversion_factor\n",
    "print(f\"{kilometers} kilometers is equal to {miles} miles.\")\n"
   ]
  },
  {
   "cell_type": "code",
   "execution_count": null,
   "id": "c387b27b-827c-4a6f-8fee-3f0d0fccf2b7",
   "metadata": {},
   "outputs": [],
   "source": [
    "#ques4\n",
    "'''"
   ]
  }
 ],
 "metadata": {
  "kernelspec": {
   "display_name": "Python 3 (ipykernel)",
   "language": "python",
   "name": "python3"
  },
  "language_info": {
   "codemirror_mode": {
    "name": "ipython",
    "version": 3
   },
   "file_extension": ".py",
   "mimetype": "text/x-python",
   "name": "python",
   "nbconvert_exporter": "python",
   "pygments_lexer": "ipython3",
   "version": "3.12.2"
  }
 },
 "nbformat": 4,
 "nbformat_minor": 5
}
