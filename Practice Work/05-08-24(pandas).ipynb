{
 "cells": [
  {
   "cell_type": "code",
   "execution_count": 1,
   "id": "5db98b92-4da6-4f36-9a99-2149825cdc1a",
   "metadata": {},
   "outputs": [
    {
     "name": "stdout",
     "output_type": "stream",
     "text": [
      "InitialDataFrame:\n",
      "   EmployeeID     Name  Age\n",
      "0         101    Alice   28\n",
      "1         102      Bob   32\n",
      "2         103  Charlie   29\n",
      "3         104    David   35\n",
      "4         105      Eve   26\n",
      "\n",
      "DataFrameafterdeletingtherowfor'Charlie':\n",
      "   EmployeeID   Name  Age\n",
      "0         101  Alice   28\n",
      "1         102    Bob   32\n",
      "3         104  David   35\n",
      "4         105    Eve   26\n"
     ]
    }
   ],
   "source": [
    "import pandas as pd\n",
    "#CreateasampleemployeeDataFrame\n",
    "data={ 'EmployeeID':[101,102,103,104,105], \n",
    "      'Name':['Alice', 'Bob', 'Charlie', 'David', 'Eve'],\n",
    "      'Age':[28,32,29,35,26] } \n",
    "df=pd.DataFrame(data) \n",
    "#DisplaytheinitialDataFrame \n",
    "print(\"InitialDataFrame:\")\n",
    "print(df) \n",
    "#Let'ssay you want to delete the row for the employee named'Charlie' \n",
    "employee_to_delete='Charlie' \n",
    "#Usethe.locpropertytodeletetherowbasedontheemployee'sname \n",
    "df=df.loc[df['Name']!=employee_to_delete] \n",
    "#DisplaytheDataFrameafterdeletingtherow \n",
    "print(\"\\nDataFrameafterdeletingtherowfor'Charlie':\") \n",
    "print(df)"
   ]
  },
  {
   "cell_type": "code",
   "execution_count": 2,
   "id": "d252a507-1ed7-4ee0-a41a-47bb417c3616",
   "metadata": {},
   "outputs": [
    {
     "name": "stdout",
     "output_type": "stream",
     "text": [
      "Initial DataFrame:\n",
      "   EmployeeID     Name  Age       Photo\n",
      "0         101    Alice   28  photo1.jpg\n",
      "1         102      Bob   32  photo2.jpg\n",
      "2         103  Charlie   29  photo3.jpg\n",
      "3         104    David   35  photo4.jpg\n",
      "4         105      Eve   26  photo5.jpg\n",
      "\n",
      "DataFrame after deleting the 'Photo' column:\n",
      "   EmployeeID     Name  Age\n",
      "0         101    Alice   28\n",
      "1         102      Bob   32\n",
      "2         103  Charlie   29\n",
      "3         104    David   35\n",
      "4         105      Eve   26\n"
     ]
    }
   ],
   "source": [
    "#delete a column\n",
    "import pandas as pd\n",
    "# Create a sample employee DataFrame\n",
    "data = { 'EmployeeID': [101, 102, 103, 104, 105], 'Name': ['Alice', 'Bob', 'Charlie', 'David', 'Eve'],'Age': [28, 32, 29, 35, 26], 'Photo': ['photo1.jpg', 'photo2.jpg', 'photo3.jpg', 'photo4.jpg', 'photo5.jpg'] }\n",
    "df = pd.DataFrame(data)\n",
    "# Display the initial DataFrame\n",
    "print(\"Initial DataFrame:\")\n",
    "print(df)\n",
    "# Delete the 'Photo' column (employee photos are no longer needed)\n",
    "df = df.drop('Photo', axis=1)\n",
    "# Display the DataFrame after deleting the column\n",
    "print(\"\\nDataFrame after deleting the 'Photo' column:\") \n",
    "print(df)"
   ]
  },
  {
   "cell_type": "code",
   "execution_count": 3,
   "id": "4089d9a1-1749-4a2c-b255-0c8d5c041d0b",
   "metadata": {},
   "outputs": [
    {
     "name": "stdout",
     "output_type": "stream",
     "text": [
      "Initial DataFrame:\n",
      "   OrderID Product  Quantity    Status\n",
      "0      101  Widget        10   Shipped\n",
      "1      102  Gadget         5  Canceled\n",
      "2      103  Widget         0  Canceled\n",
      "3      104  Doodad         7   Shipped\n",
      "4      105  Widget        15   Shipped\n",
      "\n",
      "DataFrame after deleting 'Canceled' orders:\n",
      "   OrderID Product  Quantity   Status\n",
      "0      101  Widget        10  Shipped\n",
      "3      104  Doodad         7  Shipped\n",
      "4      105  Widget        15  Shipped\n"
     ]
    }
   ],
   "source": [
    "import pandas as pd\n",
    "# Create a sample sales DataFrame\n",
    "data = {\n",
    "'OrderID': [101, 102, 103, 104, 105],\n",
    "'Product': ['Widget', 'Gadget', 'Widget', 'Doodad', 'Widget'],\n",
    "'Quantity': [10, 5, 0, 7, 15],\n",
    "'Status': ['Shipped', 'Canceled', 'Canceled', 'Shipped', 'Shipped']\n",
    "}\n",
    "df = pd.DataFrame(data)\n",
    "# Display the initial DataFrame\n",
    "print(\"Initial DataFrame:\")\n",
    "print(df)\n",
    "# Delete rows where the order status is 'Canceled'\n",
    "df = df[df['Status'] != 'Canceled']\n",
    "# Display the DataFrame after deleting rows\n",
    "print(\"\\nDataFrame after deleting 'Canceled' orders:\")\n",
    "print(df)"
   ]
  },
  {
   "cell_type": "code",
   "execution_count": 4,
   "id": "bb157b71-c2f7-4a26-af02-c641a8e37ede",
   "metadata": {},
   "outputs": [
    {
     "name": "stdout",
     "output_type": "stream",
     "text": [
      "Data has been written to output.csv\n"
     ]
    }
   ],
   "source": [
    "#csv----------------------------------\n",
    "#pandas io and cleaning data-----\n",
    "\n",
    "import pandas as pd\n",
    "# Create a Pandas DataFrame\n",
    "data = {\n",
    "'Name': ['Alice', 'Bob', 'Charlie'],\n",
    "'Age': [25, 30, 35]\n",
    "}\n",
    "df = pd.DataFrame(data)\n",
    "# Specify the file path to save the CSV file\n",
    "csv_file_path = 'output.csv'\n",
    "# Write the DataFrame to a CSV file\n",
    "df.to_csv(csv_file_path, index=False) # this will create a new file in the current folder\n",
    "print(f'Data has been written to {csv_file_path}')\n"
   ]
  },
  {
   "cell_type": "code",
   "execution_count": 7,
   "id": "2acecab1-3c45-4ad1-9c55-a6b6c08227de",
   "metadata": {},
   "outputs": [
    {
     "name": "stdout",
     "output_type": "stream",
     "text": [
      "      Name  Age\n",
      "0    Alice   25\n",
      "1      Bob   30\n",
      "2  Charlie   35\n"
     ]
    }
   ],
   "source": [
    "#read csv file\n",
    "data=pd.read_csv('output.csv')\n",
    "print(data)"
   ]
  },
  {
   "cell_type": "code",
   "execution_count": 8,
   "id": "712d1cda-dc86-4ad6-8f02-e9bd3a3935a3",
   "metadata": {},
   "outputs": [
    {
     "name": "stdout",
     "output_type": "stream",
     "text": [
      "      Name  Age\n",
      "0    Alice   25\n",
      "1      Bob   30\n",
      "2  Charlie   35\n"
     ]
    }
   ],
   "source": [
    "data=pd.read_csv('output.csv',nrows=3)\n",
    "print(data)"
   ]
  },
  {
   "cell_type": "code",
   "execution_count": 9,
   "id": "b1d6ff31-a71d-4e6c-91fe-a1d62bc44e42",
   "metadata": {},
   "outputs": [
    {
     "name": "stdout",
     "output_type": "stream",
     "text": [
      "    Name  Age\n",
      "0  Alice   25\n"
     ]
    }
   ],
   "source": [
    "data=pd.read_csv('output.csv',nrows=1)\n",
    "print(data)"
   ]
  },
  {
   "cell_type": "code",
   "execution_count": 10,
   "id": "f4c9dfed-8097-404f-a8bf-9bd5c5a84bce",
   "metadata": {},
   "outputs": [
    {
     "name": "stdout",
     "output_type": "stream",
     "text": [
      "      Name  Age\n",
      "0    Alice   25\n",
      "1      Bob   30\n",
      "2  Charlie   35\n"
     ]
    }
   ],
   "source": [
    "data=pd.read_csv('output.csv',nrows=3,usecols=[\"Name\",\"Age\"])\n",
    "print(data)"
   ]
  },
  {
   "cell_type": "code",
   "execution_count": 11,
   "id": "537b5660-e2bf-438d-b6c8-3fbb21647147",
   "metadata": {},
   "outputs": [
    {
     "name": "stdout",
     "output_type": "stream",
     "text": [
      "      Name\n",
      "0    Alice\n",
      "1      Bob\n",
      "2  Charlie\n"
     ]
    }
   ],
   "source": [
    "data=pd.read_csv('output.csv',nrows=3,usecols=[\"Name\"])\n",
    "print(data)"
   ]
  },
  {
   "cell_type": "code",
   "execution_count": 13,
   "id": "6da5ed61-23e4-4b44-b0d4-7dc997042df5",
   "metadata": {},
   "outputs": [
    {
     "name": "stdout",
     "output_type": "stream",
     "text": [
      "      Name\n",
      "0    Alice\n",
      "1      Bob\n",
      "2  Charlie\n"
     ]
    }
   ],
   "source": [
    "data=pd.read_csv('output.csv',nrows=3,usecols=[0])\n",
    "print(data)"
   ]
  },
  {
   "cell_type": "code",
   "execution_count": 14,
   "id": "0d4bc5fd-f476-4a3f-91d9-b261a656a689",
   "metadata": {},
   "outputs": [
    {
     "ename": "TypeError",
     "evalue": "read_csv() got an unexpected keyword argument 'nrow'",
     "output_type": "error",
     "traceback": [
      "\u001b[1;31m---------------------------------------------------------------------------\u001b[0m",
      "\u001b[1;31mTypeError\u001b[0m                                 Traceback (most recent call last)",
      "Cell \u001b[1;32mIn[14], line 1\u001b[0m\n\u001b[1;32m----> 1\u001b[0m data\u001b[38;5;241m=\u001b[39m\u001b[43mpd\u001b[49m\u001b[38;5;241;43m.\u001b[39;49m\u001b[43mread_csv\u001b[49m\u001b[43m(\u001b[49m\u001b[38;5;124;43m'\u001b[39;49m\u001b[38;5;124;43moutput.csv\u001b[39;49m\u001b[38;5;124;43m'\u001b[39;49m\u001b[43m,\u001b[49m\u001b[43mnrow\u001b[49m\u001b[38;5;241;43m=\u001b[39;49m\u001b[38;5;241;43m5\u001b[39;49m\u001b[43m,\u001b[49m\u001b[43musecols\u001b[49m\u001b[38;5;241;43m=\u001b[39;49m\u001b[43m[\u001b[49m\u001b[38;5;124;43m\"\u001b[39;49m\u001b[38;5;124;43mName\u001b[39;49m\u001b[38;5;124;43m\"\u001b[39;49m\u001b[43m,\u001b[49m\u001b[38;5;124;43m\"\u001b[39;49m\u001b[38;5;124;43mAge\u001b[39;49m\u001b[38;5;124;43m\"\u001b[39;49m\u001b[43m]\u001b[49m\u001b[43m)\u001b[49m\n\u001b[0;32m      2\u001b[0m data\u001b[38;5;241m=\u001b[39mpd\u001b[38;5;241m.\u001b[39mread_csv(\u001b[38;5;124m'\u001b[39m\u001b[38;5;124moutput.csv\u001b[39m\u001b[38;5;124m'\u001b[39m)\n\u001b[0;32m      3\u001b[0m \u001b[38;5;28mprint\u001b[39m(data)\n",
      "\u001b[1;31mTypeError\u001b[0m: read_csv() got an unexpected keyword argument 'nrow'"
     ]
    }
   ],
   "source": [
    "data=pd.read_csv('output.csv',nrow=5,usecols=[\"Name\",\"Age\"])\n",
    "data=pd.read_csv('output.csv')\n",
    "print(data)\n",
    "#data=pd.read_csv('output.csv',nrows=5,usecols=[0,2,3],skiprowa=[0,2])\n",
    "#data=pd.read_csv('output.csv',nrows=5,skiprowa=[0,2])\n",
    "\n",
    "data=pd.read_csv('output.csv',index_col=\"Age\")\n",
    "print(data)\n",
    "\n",
    "                                              \n",
    "                                              "
   ]
  },
  {
   "cell_type": "code",
   "execution_count": 16,
   "id": "11137e16-6109-42e5-9e3b-15a2876e07cc",
   "metadata": {},
   "outputs": [
    {
     "data": {
      "text/html": [
       "<div>\n",
       "<style scoped>\n",
       "    .dataframe tbody tr th:only-of-type {\n",
       "        vertical-align: middle;\n",
       "    }\n",
       "\n",
       "    .dataframe tbody tr th {\n",
       "        vertical-align: top;\n",
       "    }\n",
       "\n",
       "    .dataframe thead th {\n",
       "        text-align: right;\n",
       "    }\n",
       "</style>\n",
       "<table border=\"1\" class=\"dataframe\">\n",
       "  <thead>\n",
       "    <tr style=\"text-align: right;\">\n",
       "      <th></th>\n",
       "      <th>Name</th>\n",
       "      <th>Age</th>\n",
       "    </tr>\n",
       "  </thead>\n",
       "  <tbody>\n",
       "    <tr>\n",
       "      <th>0</th>\n",
       "      <td>Alice</td>\n",
       "      <td>25</td>\n",
       "    </tr>\n",
       "    <tr>\n",
       "      <th>1</th>\n",
       "      <td>Bob</td>\n",
       "      <td>30</td>\n",
       "    </tr>\n",
       "  </tbody>\n",
       "</table>\n",
       "</div>"
      ],
      "text/plain": [
       "    Name  Age\n",
       "0  Alice   25\n",
       "1    Bob   30"
      ]
     },
     "execution_count": 16,
     "metadata": {},
     "output_type": "execute_result"
    }
   ],
   "source": [
    "df=pd.read_csv('output.csv')\n",
    "df.head(2)   #head by default give 5 top values\n"
   ]
  },
  {
   "cell_type": "code",
   "execution_count": 17,
   "id": "72223ce1-8613-4687-89df-2285e1e473da",
   "metadata": {},
   "outputs": [
    {
     "data": {
      "text/html": [
       "<div>\n",
       "<style scoped>\n",
       "    .dataframe tbody tr th:only-of-type {\n",
       "        vertical-align: middle;\n",
       "    }\n",
       "\n",
       "    .dataframe tbody tr th {\n",
       "        vertical-align: top;\n",
       "    }\n",
       "\n",
       "    .dataframe thead th {\n",
       "        text-align: right;\n",
       "    }\n",
       "</style>\n",
       "<table border=\"1\" class=\"dataframe\">\n",
       "  <thead>\n",
       "    <tr style=\"text-align: right;\">\n",
       "      <th></th>\n",
       "      <th>Name</th>\n",
       "      <th>Age</th>\n",
       "    </tr>\n",
       "  </thead>\n",
       "  <tbody>\n",
       "    <tr>\n",
       "      <th>1</th>\n",
       "      <td>Bob</td>\n",
       "      <td>30</td>\n",
       "    </tr>\n",
       "    <tr>\n",
       "      <th>2</th>\n",
       "      <td>Charlie</td>\n",
       "      <td>35</td>\n",
       "    </tr>\n",
       "  </tbody>\n",
       "</table>\n",
       "</div>"
      ],
      "text/plain": [
       "      Name  Age\n",
       "1      Bob   30\n",
       "2  Charlie   35"
      ]
     },
     "execution_count": 17,
     "metadata": {},
     "output_type": "execute_result"
    }
   ],
   "source": [
    "df=pd.read_csv('output.csv')\n",
    "df.tail(2)"
   ]
  },
  {
   "cell_type": "code",
   "execution_count": 18,
   "id": "5f73a186-5968-44a4-8760-f755299fa8ff",
   "metadata": {},
   "outputs": [
    {
     "data": {
      "text/html": [
       "<div>\n",
       "<style scoped>\n",
       "    .dataframe tbody tr th:only-of-type {\n",
       "        vertical-align: middle;\n",
       "    }\n",
       "\n",
       "    .dataframe tbody tr th {\n",
       "        vertical-align: top;\n",
       "    }\n",
       "\n",
       "    .dataframe thead th {\n",
       "        text-align: right;\n",
       "    }\n",
       "</style>\n",
       "<table border=\"1\" class=\"dataframe\">\n",
       "  <thead>\n",
       "    <tr style=\"text-align: right;\">\n",
       "      <th></th>\n",
       "      <th>Age</th>\n",
       "    </tr>\n",
       "  </thead>\n",
       "  <tbody>\n",
       "    <tr>\n",
       "      <th>count</th>\n",
       "      <td>3.0</td>\n",
       "    </tr>\n",
       "    <tr>\n",
       "      <th>mean</th>\n",
       "      <td>30.0</td>\n",
       "    </tr>\n",
       "    <tr>\n",
       "      <th>std</th>\n",
       "      <td>5.0</td>\n",
       "    </tr>\n",
       "    <tr>\n",
       "      <th>min</th>\n",
       "      <td>25.0</td>\n",
       "    </tr>\n",
       "    <tr>\n",
       "      <th>25%</th>\n",
       "      <td>27.5</td>\n",
       "    </tr>\n",
       "    <tr>\n",
       "      <th>50%</th>\n",
       "      <td>30.0</td>\n",
       "    </tr>\n",
       "    <tr>\n",
       "      <th>75%</th>\n",
       "      <td>32.5</td>\n",
       "    </tr>\n",
       "    <tr>\n",
       "      <th>max</th>\n",
       "      <td>35.0</td>\n",
       "    </tr>\n",
       "  </tbody>\n",
       "</table>\n",
       "</div>"
      ],
      "text/plain": [
       "        Age\n",
       "count   3.0\n",
       "mean   30.0\n",
       "std     5.0\n",
       "min    25.0\n",
       "25%    27.5\n",
       "50%    30.0\n",
       "75%    32.5\n",
       "max    35.0"
      ]
     },
     "execution_count": 18,
     "metadata": {},
     "output_type": "execute_result"
    }
   ],
   "source": [
    "df=pd.read_csv('output.csv')\n",
    "df.columns\n",
    "df.describe()"
   ]
  },
  {
   "cell_type": "code",
   "execution_count": 19,
   "id": "8a6d66f3-579b-4871-b91b-00f0ec1c2f77",
   "metadata": {},
   "outputs": [
    {
     "data": {
      "text/html": [
       "<div>\n",
       "<style scoped>\n",
       "    .dataframe tbody tr th:only-of-type {\n",
       "        vertical-align: middle;\n",
       "    }\n",
       "\n",
       "    .dataframe tbody tr th {\n",
       "        vertical-align: top;\n",
       "    }\n",
       "\n",
       "    .dataframe thead th {\n",
       "        text-align: right;\n",
       "    }\n",
       "</style>\n",
       "<table border=\"1\" class=\"dataframe\">\n",
       "  <thead>\n",
       "    <tr style=\"text-align: right;\">\n",
       "      <th></th>\n",
       "      <th>Name</th>\n",
       "      <th>Age</th>\n",
       "    </tr>\n",
       "  </thead>\n",
       "  <tbody>\n",
       "    <tr>\n",
       "      <th>1</th>\n",
       "      <td>Bob</td>\n",
       "      <td>30</td>\n",
       "    </tr>\n",
       "    <tr>\n",
       "      <th>2</th>\n",
       "      <td>Charlie</td>\n",
       "      <td>35</td>\n",
       "    </tr>\n",
       "  </tbody>\n",
       "</table>\n",
       "</div>"
      ],
      "text/plain": [
       "      Name  Age\n",
       "1      Bob   30\n",
       "2  Charlie   35"
      ]
     },
     "execution_count": 19,
     "metadata": {},
     "output_type": "execute_result"
    }
   ],
   "source": [
    "df=pd.read_csv('output.csv')\n",
    "df[1:4]"
   ]
  },
  {
   "cell_type": "code",
   "execution_count": 22,
   "id": "fed33ee1-23f8-47d4-ac24-c81199528637",
   "metadata": {},
   "outputs": [
    {
     "name": "stdout",
     "output_type": "stream",
     "text": [
      "Dataframe information\n",
      "<class 'pandas.core.frame.DataFrame'>\n",
      "RangeIndex: 3 entries, 0 to 2\n",
      "Data columns (total 2 columns):\n",
      " #   Column  Non-Null Count  Dtype \n",
      "---  ------  --------------  ----- \n",
      " 0   Name    3 non-null      object\n",
      " 1   Age     3 non-null      int64 \n",
      "dtypes: int64(1), object(1)\n",
      "memory usage: 180.0+ bytes\n",
      "None\n",
      "Dataframe Description\n",
      "        Age\n",
      "count   3.0\n",
      "mean   30.0\n",
      "std     5.0\n",
      "min    25.0\n",
      "25%    27.5\n",
      "50%    30.0\n",
      "75%    32.5\n",
      "max    35.0\n"
     ]
    }
   ],
   "source": [
    "import pandas as pd\n",
    "column_names = ['Name','Age']\n",
    "data = pd.read_csv('output.csv', names= column_names, header=0)\n",
    "print(\"Dataframe information\")\n",
    "print(data.info())\n",
    "print(\"Dataframe Description\")\n",
    "print(data.describe())"
   ]
  },
  {
   "cell_type": "code",
   "execution_count": 23,
   "id": "abf05737-3c7b-47fe-a939-7c337fddd359",
   "metadata": {},
   "outputs": [
    {
     "name": "stdout",
     "output_type": "stream",
     "text": [
      "Dataframe information\n",
      "Name    3\n",
      "Age     3\n",
      "dtype: int64\n",
      "Dataframe Description\n",
      "        Age\n",
      "count   3.0\n",
      "mean   30.0\n",
      "std     5.0\n",
      "min    25.0\n",
      "25%    27.5\n",
      "50%    30.0\n",
      "75%    32.5\n",
      "max    35.0\n"
     ]
    }
   ],
   "source": [
    "import pandas as pd\n",
    "column_names= ['Name','Age']\n",
    "data = pd.read_csv('output.csv', names= column_names, header=0)\n",
    "print(\"count null values\")\n",
    "print(data.count())\n",
    "print(\"Dataframe Description\")\n",
    "print(data.describe())"
   ]
  },
  {
   "cell_type": "code",
   "execution_count": null,
   "id": "167fd507-9c7f-4d27-80d5-e8ea32e77640",
   "metadata": {},
   "outputs": [],
   "source": [
    "import pandas as pd\n",
    "import numpy as np\n"
   ]
  }
 ],
 "metadata": {
  "kernelspec": {
   "display_name": "Python 3 (ipykernel)",
   "language": "python",
   "name": "python3"
  },
  "language_info": {
   "codemirror_mode": {
    "name": "ipython",
    "version": 3
   },
   "file_extension": ".py",
   "mimetype": "text/x-python",
   "name": "python",
   "nbconvert_exporter": "python",
   "pygments_lexer": "ipython3",
   "version": "3.12.2"
  }
 },
 "nbformat": 4,
 "nbformat_minor": 5
}
