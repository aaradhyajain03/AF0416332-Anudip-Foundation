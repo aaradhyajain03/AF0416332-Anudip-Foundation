{
 "cells": [
  {
   "cell_type": "code",
   "execution_count": 1,
   "id": "6d07e2ea-60b4-4d88-abf5-0ae034f9120d",
   "metadata": {},
   "outputs": [
    {
     "name": "stdout",
     "output_type": "stream",
     "text": [
      "Hot days (temperature > 35°C):\n",
      "days  temperature\n",
      " 3   36.8°C\n",
      " 6   38.7°C\n",
      " 10   37.2°C\n",
      "\n",
      "Cold days (temperature < 5°C):\n"
     ]
    }
   ],
   "source": [
    "#LAB 2\n",
    "# ques1\n",
    "#suppose u have a data set containing daily temperature reading s for a city and u want to identify the days with extreme temperature conditions . \n",
    "#find days where the temperature either exceeds 35degree C  (hot day) or dropped below 5 degree celsius (cold days)\n",
    "#input :temperature =np.array ([32.5,.34.2,36.8,29.3,31.0,38.7,23.1,18.5,22.8,37.2])#\n",
    "import numpy as np\n",
    "temperature = np.array([32.5, 34.2, 36.8, 29.3, 31.0, 38.7, 23.1, 18.5, 22.8, 37.2])\n",
    "hot_days = temperature > 35\n",
    "cold_days = temperature < 5\n",
    "\n",
    "print(\"Hot days (temperature > 35°C):\")\n",
    "print(\"days  temperature\")\n",
    "for i, hot in enumerate(hot_days):\n",
    "    if hot:\n",
    "        print(f\" {i+1}   {temperature[i]}°C\")\n",
    "\n",
    "print(\"\\nCold days (temperature < 5°C):\")\n",
    "\n",
    "for i, cold in enumerate(cold_days):\n",
    "    if cold:\n",
    "        print(f\" {i+1}   {temperature[i]}°C\")\n",
    "hot_days_indices = np.where(hot_days)[0]\n",
    "cold_days_indices = np.where(cold_days)[0]"
   ]
  },
  {
   "cell_type": "code",
   "execution_count": 2,
   "id": "5fe85039-ea5e-4153-bc7d-a77e5a1765d1",
   "metadata": {},
   "outputs": [
    {
     "name": "stdout",
     "output_type": "stream",
     "text": [
      "Quarterly 1 Sales (in thousand of dollars )\n",
      " [120 135 140]\n",
      "Quarterly 2 Sales (in thousand of dollars )\n",
      " [165 180 155]\n",
      "Quarterly 3 Sales (in thousand of dollars )\n",
      " [168 190 205]\n",
      "Quarterly 4 Sales (in thousand of dollars )\n",
      " [198 210 225]\n"
     ]
    }
   ],
   "source": [
    "#ques 2 \n",
    "''' suppose you have a dataset containing monthly sales data for a company and u want to split this data into a quaterly reports for ananlysis and \n",
    "reporting purpose \n",
    "input :\n",
    "monthly_sales=np.array([120,135,140,165,180,155,168,190,205,198,210,225])'''\n",
    "import numpy as np\n",
    "monthly_sales = np.array([120, 135, 140, 165, 180, 155, 168, 190, 205, 198, 210, 225])\n",
    "quarterly_sales = monthly_sales.reshape(4, 3)\n",
    "\n",
    "# Print quarterly sales data and totals\n",
    "\n",
    "for i, sales in enumerate(quarterly_sales, start=1):\n",
    "    print(\"Quarterly\" ,i,\"Sales (in thousand of dollars )\")\n",
    "    print(f\" {sales}\")"
   ]
  },
  {
   "cell_type": "code",
   "execution_count": 6,
   "id": "321fa9d4-8987-4725-8621-d1b334423fc1",
   "metadata": {},
   "outputs": [
    {
     "name": "stdout",
     "output_type": "stream",
     "text": [
      "Active Customers(Last purchase<=30) [101 102 103 104 105]\n",
      "non_Active Customers(Last purchase<=30) [106 107 108 109 110]\n"
     ]
    }
   ],
   "source": [
    "#ques3\n",
    "#Suppose you have a dataset containing customer data, and you want to split this data into two groups:\n",
    "#one group for customers who made a purchase in the last 30 days and another group for customers who haven't made a purchase in the last 30 days.\n",
    "#Input:\n",
    "#customer_ids = np.array([101, 102, 103, 104, 105, 106, 107, 108, 109, 110])\n",
    "#last_purchase_days_ago = np.array([5, 15, 20, 25, 30, 35, 40, 45, 50, 55])\n",
    "import numpy as np\n",
    "\n",
    "customer_ids = np.array([101, 102, 103, 104, 105, 106, 107, 108, 109, 110])\n",
    "last_purchase_days_ago = np.array([5, 15, 20, 25, 30, 35, 40, 45, 50, 55])\n",
    "Active_purchase_condition = last_purchase_days_ago <= 30\n",
    "\n",
    "Active_customers = customer_ids[Active_purchase_condition]\n",
    "Not_Active_customers = customer_ids[~Active_purchase_condition]\n",
    "\n",
    "print(\"Active Customers(Last purchase<=30)\", Active_customers)\n",
    "print(\"non_Active Customers(Last purchase<=30)\", Not_Active_customers)\n"
   ]
  },
  {
   "cell_type": "code",
   "execution_count": 7,
   "id": "1c4ad41a-1a7e-4ffd-8a89-685a8f212077",
   "metadata": {},
   "outputs": [
    {
     "name": "stdout",
     "output_type": "stream",
     "text": [
      "Combined Employee Dataset:\n",
      "[[101 'John Doe' 'Full-Time' 55000]\n",
      " [102 'Jane Smith' 'Full-Time' 60000]\n",
      " [103 'Mike Johnson' 'Full-Time' 52000]\n",
      " [201 'Alice Brown' 'Part-Time' 25000]\n",
      " [202 'Bob Wilson' 'Part-Time' 28000]\n",
      " [203 'Emily Davis' 'Part-Time' 22000]]\n"
     ]
    }
   ],
   "source": [
    "#ques 4 \n",
    "'''Suppose you have two sets of employee data—one containing information about\n",
    "full-time employees and another containing information about part-time employees. You\n",
    "want to combine this data to create a comprehensive employee dataset for HR analysis.\n",
    "Input:\n",
    "# Employee data for full-time employees\n",
    "full_time_employees = np.array([\n",
    "[101, 'John Doe', 'Full-Time', 55000],\n",
    "[102, 'Jane Smith', 'Full-Time', 60000],\n",
    "[103, 'Mike Johnson', 'Full-Time', 52000]\n",
    "])\n",
    "# Employee data for part-time employees\n",
    "part_time_employees = np.array([\n",
    "[201, 'Alice Brown', 'Part-Time', 25000],\n",
    "[202, 'Bob Wilson', 'Part-Time', 28000],\n",
    "[203, 'Emily Davis', 'Part-Time', 22000]\n",
    "])'''\n",
    "\n",
    "\n",
    "import numpy as np\n",
    "full_time_employees = np.array([\n",
    "    [101, 'John Doe', 'Full-Time', 55000],\n",
    "    [102, 'Jane Smith', 'Full-Time', 60000],\n",
    "    [103, 'Mike Johnson', 'Full-Time', 52000]\n",
    "], dtype=object)\n",
    "\n",
    "part_time_employees = np.array([\n",
    "    [201, 'Alice Brown', 'Part-Time', 25000],\n",
    "    [202, 'Bob Wilson', 'Part-Time', 28000],\n",
    "    [203, 'Emily Davis', 'Part-Time', 22000]\n",
    "], dtype=object)\n",
    "\n",
    "combined_employees = np.vstack((full_time_employees, part_time_employees))\n",
    "\n",
    "print(\"Combined Employee Dataset:\")\n",
    "print(combined_employees)"
   ]
  },
  {
   "cell_type": "code",
   "execution_count": 8,
   "id": "c1aa9e51-4195-4440-8388-724f1c4d8480",
   "metadata": {},
   "outputs": [
    {
     "name": "stdout",
     "output_type": "stream",
     "text": [
      "Means of each NumPy array:\n",
      "5.5\n",
      "30.6\n",
      "34.0\n"
     ]
    }
   ],
   "source": [
    "\n",
    "# ques 5 \n",
    "'''How to find the mean of every NumPy array in the given list?\n",
    "Input:\n",
    "list = [\n",
    "np.array([3, 2, 8, 9]),\n",
    "np.array([4, 12, 34, 25, 78]),\n",
    "np.array([23, 12, 67])\n",
    "]'''\n",
    "\n",
    "import numpy as np\n",
    "arrays_list = [\n",
    "    np.array([3, 2, 8, 9]),\n",
    "    np.array([4, 12, 34, 25, 78]),\n",
    "    np.array([23, 12, 67])\n",
    "]\n",
    "\n",
    "means = [np.mean(arr) for arr in arrays_list]\n",
    "\n",
    "# Print the results\n",
    "print(\"Means of each NumPy array:\")\n",
    "for i, mean in enumerate(means):\n",
    "    print(mean)"
   ]
  },
  {
   "cell_type": "code",
   "execution_count": 9,
   "id": "1d969acc-d6c9-4e84-8536-0c988cbc61df",
   "metadata": {},
   "outputs": [
    {
     "name": "stdout",
     "output_type": "stream",
     "text": [
      "the original array \n",
      "[1 2 3 4 5 6 7]\n",
      "The median of the array is: 4.0\n"
     ]
    }
   ],
   "source": [
    "#ques 6 \n",
    "'''Compute the median of the flattened NumPy array\n",
    "Input: x_odd = np.array([1, 2, 3, 4, 5, 6, 7])'''\n",
    "\n",
    "import numpy as np\n",
    "\n",
    "x_odd = np.array([1, 2, 3, 4, 5, 6, 7])\n",
    "\n",
    "median_value = np.median(x_odd)\n",
    "print(\"the original array \")\n",
    "print(x_odd)\n",
    "# Print the result\n",
    "print(f\"The median of the array is: {median_value}\")"
   ]
  },
  {
   "cell_type": "code",
   "execution_count": null,
   "id": "fbe8a54c-e1f5-4200-9ab2-123cb98719a7",
   "metadata": {},
   "outputs": [],
   "source": []
  }
 ],
 "metadata": {
  "kernelspec": {
   "display_name": "Python 3 (ipykernel)",
   "language": "python",
   "name": "python3"
  },
  "language_info": {
   "codemirror_mode": {
    "name": "ipython",
    "version": 3
   },
   "file_extension": ".py",
   "mimetype": "text/x-python",
   "name": "python",
   "nbconvert_exporter": "python",
   "pygments_lexer": "ipython3",
   "version": "3.12.2"
  }
 },
 "nbformat": 4,
 "nbformat_minor": 5
}
