{
 "cells": [
  {
   "cell_type": "code",
   "execution_count": 2,
   "id": "9ec9529d-aa67-4664-be79-46e40603b7a8",
   "metadata": {},
   "outputs": [
    {
     "name": "stdout",
     "output_type": "stream",
     "text": [
      "[1 2]\n",
      "[3 4]\n",
      "[5 6]\n"
     ]
    }
   ],
   "source": [
    "#split\n",
    "import numpy as np\n",
    "arr=np.array([1,2,3,4,5,6])\n",
    "sub_arrays=np.split(arr,3)\n",
    "\n",
    "for sub_arr in sub_arrays:\n",
    "    print(sub_arr)"
   ]
  },
  {
   "cell_type": "code",
   "execution_count": 6,
   "id": "9a92543e-1c02-41c8-960b-756e47dbf080",
   "metadata": {},
   "outputs": [
    {
     "name": "stdout",
     "output_type": "stream",
     "text": [
      "Sorted array (ascending): [1 2 3 4 5]\n",
      "Sorted array (descending): [5 4 3 2 1]\n"
     ]
    }
   ],
   "source": [
    "#sort\n",
    "arr = np.array([3, 1, 2, 4, 5])\n",
    "# Sort the array in ascending order (creates a new sorted array)\n",
    "sorted_arr = np.sort(arr)\n",
    "# Print the sorted array\n",
    "print(\"Sorted array (ascending):\", sorted_arr)\n",
    "# Sort the array in descending order\n",
    "sorted_arr_desc = np.sort(arr)[::-1]\n",
    "# Print the sorted array in descending order\n",
    "print(\"Sorted array (descending):\", sorted_arr_desc)"
   ]
  },
  {
   "cell_type": "code",
   "execution_count": 23,
   "id": "5f8573b4-2fee-44b6-a867-f39d94615b0f",
   "metadata": {},
   "outputs": [
    {
     "name": "stdout",
     "output_type": "stream",
     "text": [
      "Sorted matrix (ascending along rows):\n",
      "[[1 2 3]\n",
      " [2 4 5]]\n"
     ]
    }
   ],
   "source": [
    "# sort for multidimensional arrray\n",
    "matrix = np.array([[3,1,2 ],\n",
    "[2, 5, 4]])\n",
    "# Sort along rows (axis=1) in ascending order\n",
    "sorted_matrix = np.sort(matrix, axis=1)\n",
    "# Print the sorted matrix\n",
    "print(\"Sorted matrix (ascending along rows):\")\n",
    "print(sorted_matrix)\n"
   ]
  },
  {
   "cell_type": "code",
   "execution_count": 12,
   "id": "e5d2b216-0c91-45e2-9d26-5c13c21f3ea5",
   "metadata": {},
   "outputs": [
    {
     "name": "stdout",
     "output_type": "stream",
     "text": [
      "[[1 2]\n",
      " [3 4]\n",
      " [5 6]]\n"
     ]
    }
   ],
   "source": [
    "#np.concatenate():The np.concatenate() function is used to join arrays along a specified axis.\n",
    "#It takes a sequence of arrays as input and concatenates them along the specified axis.\n",
    "arr1 = np.array([[1, 2], [3, 4]])\n",
    "arr2 = np.array([[5, 6]])\n",
    "# Concatenate arr1 and arr2 along rows (vertical)\n",
    "result = np.concatenate((arr1, arr2), axis=0)\n",
    "# Print the concatenated array\n",
    "print(result)"
   ]
  },
  {
   "cell_type": "code",
   "execution_count": 16,
   "id": "4e6b9368-b78e-40b0-98a2-36a000ee8aef",
   "metadata": {},
   "outputs": [
    {
     "name": "stdout",
     "output_type": "stream",
     "text": [
      "[[1 2 3]\n",
      " [4 5 6]]\n"
     ]
    }
   ],
   "source": [
    "#np.vstack(): Stacks arrays vertically (along rows)\n",
    "arr1 = np.array([1, 2, 3])\n",
    "arr2 = np.array([4, 5, 6])\n",
    "# Stack arr1 and arr2 vertically\n",
    "result = np.vstack((arr1, arr2))\n",
    "# Print the vertically stacked array\n",
    "print(result)"
   ]
  },
  {
   "cell_type": "code",
   "execution_count": 17,
   "id": "14529e14-0eb8-485a-98f7-b81c2abb2c1e",
   "metadata": {},
   "outputs": [
    {
     "name": "stdout",
     "output_type": "stream",
     "text": [
      "[1 2 3 4]\n"
     ]
    }
   ],
   "source": [
    "#np.hstack(): Stacks arrays horizontally (along columns)\n",
    "arr1 = np.array([1, 2])\n",
    "arr2 = np.array([3, 4])\n",
    "# Stack arr1 and arr2 horizontally\n",
    "result = np.hstack((arr1, arr2))\n",
    "# Print the horizontally stacked array\n",
    "print(result)\n"
   ]
  },
  {
   "cell_type": "code",
   "execution_count": 25,
   "id": "e555bd11-c7fe-4015-b253-fbabea9fdfd8",
   "metadata": {},
   "outputs": [
    {
     "name": "stdout",
     "output_type": "stream",
     "text": [
      "Filtered Array: [4 5 6]\n"
     ]
    }
   ],
   "source": [
    "#Numpy Filter\n",
    "#In NumPy, you can filter elements in an array based on a specified condition using boolean indexing.\n",
    "#Boolean indexing allows you to create a mask (a boolean array) that selects elements from the original array that meet the specified condition.\n",
    "#Here's how to filter elements in a NumPy array:\n",
    "\n",
    "# Create a NumPy array\n",
    "arr = np.array([1, 2, 3, 4, 5, 6])\n",
    "# Create a boolean mask based on a condition (e.g., values greater than 3)\n",
    "mask = (arr > 3)\n",
    "# Use the mask to filter elements in the array\n",
    "filtered_array = arr[mask]\n",
    "# Print the filtered array\n",
    "print(\"Filtered Array:\", filtered_array)"
   ]
  },
  {
   "cell_type": "code",
   "execution_count": 26,
   "id": "8366c4b3-f6a0-4242-af00-b7695e8367d9",
   "metadata": {},
   "outputs": [
    {
     "name": "stdout",
     "output_type": "stream",
     "text": [
      "Filtered Temperatures:\n",
      "[20.5 22.  23.5 24.2]\n"
     ]
    }
   ],
   "source": [
    "#Real-Life Scenario: Filtering Sensor Data\n",
    "# Temperature readings (in Celsius)\n",
    "temperatures = np.array([20.5, 22.0, 19.8, 23.5, 18.0, 24.2, 26.1])\n",
    "# Filter temperatures within the range of 20°C to 25°C\n",
    "filtered_temperatures = temperatures[(temperatures >= 20) & (temperatures <= 25)]\n",
    "print(\"Filtered Temperatures:\")\n",
    "print(filtered_temperatures)\n"
   ]
  },
  {
   "cell_type": "code",
   "execution_count": 28,
   "id": "27c018c6-d941-478a-b203-a2e4f9cae83c",
   "metadata": {},
   "outputs": [
    {
     "name": "stdout",
     "output_type": "stream",
     "text": [
      "Class A Score Average 90.0\n",
      "Class A Standard Deviation 3.40587727318528\n",
      "Class A Variance 11.6\n"
     ]
    }
   ],
   "source": [
    "#mean #var #std\n",
    "#mean\n",
    "classA= np.array([85, 88, 90, 92, 95])\n",
    "classA_mean=np.mean(classA)\n",
    "print('Class A Score Average',classA_mean )\n",
    "classA_std=np.std(classA)\n",
    "print('Class A Standard Deviation',classA_std )#std\n",
    "classA_var=np.var(classA)\n",
    "print('Class A Variance',classA_var)#var\n"
   ]
  },
  {
   "cell_type": "code",
   "execution_count": 31,
   "id": "d7a7ddb6-1f77-4fc0-830a-6f43b711d32d",
   "metadata": {},
   "outputs": [
    {
     "name": "stdout",
     "output_type": "stream",
     "text": [
      "Median (50th Percentile): 97.4\n"
     ]
    }
   ],
   "source": [
    "#np.percentile() - Percentiles:\n",
    "# Test scores of 30 students\n",
    "test_scores = np.array([65, 75, 80, 85, 90, 92, 94, 95, 96, 98, 100, 102, 104, 106, 108,\n",
    "110, 112, 114, 116, 118, 120, 122, 124, 126, 128, 130, 132, 134, 136, 138])\n",
    "median = np.percentile(test_scores, 30)\n",
    "print(\"Median (50th Percentile):\", median)\n"
   ]
  },
  {
   "cell_type": "code",
   "execution_count": 30,
   "id": "5bd35cd0-30e2-4c84-b75f-3a51120e7fb3",
   "metadata": {},
   "outputs": [
    {
     "name": "stdout",
     "output_type": "stream",
     "text": [
      "Original Scores: [85 92 78 88 95 72 89]\n",
      "Loaded Scores: [85 92 78 88 95 72 89]\n"
     ]
    }
   ],
   "source": [
    "#Saving and Loading NumPy Arrays\n",
    "# Sample student scores\n",
    "scores = np.array([85, 92, 78, 88, 95, 72, 89])\n",
    "# Save the scores to a file\n",
    "np.save('student_scores.npy', scores)\n",
    "# Load the scores from the file\n",
    "loaded_scores = np.load('student_scores.npy')\n",
    "print(\"Original Scores:\", scores)\n",
    "print(\"Loaded Scores:\", loaded_scores)"
   ]
  },
  {
   "cell_type": "code",
   "execution_count": null,
   "id": "49f940f3-32de-4934-a8b7-b5fce482dd9b",
   "metadata": {},
   "outputs": [],
   "source": []
  }
 ],
 "metadata": {
  "kernelspec": {
   "display_name": "Python 3 (ipykernel)",
   "language": "python",
   "name": "python3"
  },
  "language_info": {
   "codemirror_mode": {
    "name": "ipython",
    "version": 3
   },
   "file_extension": ".py",
   "mimetype": "text/x-python",
   "name": "python",
   "nbconvert_exporter": "python",
   "pygments_lexer": "ipython3",
   "version": "3.12.2"
  }
 },
 "nbformat": 4,
 "nbformat_minor": 5
}
