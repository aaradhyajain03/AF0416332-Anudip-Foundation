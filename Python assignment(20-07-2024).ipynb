{
 "cells": [
  {
   "cell_type": "code",
   "execution_count": 1,
   "id": "14f2d062-7f12-41df-b226-9d4dca435a31",
   "metadata": {},
   "outputs": [],
   "source": [
    "#python assignment (20-07-2024)"
   ]
  },
  {
   "cell_type": "code",
   "execution_count": 2,
   "id": "4b5b37a8-6158-41a8-b3eb-8be4b83d969f",
   "metadata": {},
   "outputs": [
    {
     "name": "stdout",
     "output_type": "stream",
     "text": [
      "The result of dividing 10 by 2 is 5.0\n"
     ]
    }
   ],
   "source": [
    "#ques1 : Declare a div() function with two parameters. Then call the function and pass two numbers and display their division.\n",
    "#soln:\n",
    "def div(num1, num2):\n",
    "    if num2 == 0:\n",
    "        return \"Error: Division by zero is not allowed.\"\n",
    "    return num1 / num2\n",
    "number1 = 10\n",
    "number2 = 2\n",
    "result = div(number1, number2)\n",
    "print(f\"The result of dividing {number1} by {number2} is {result}\")"
   ]
  },
  {
   "cell_type": "code",
   "execution_count": 3,
   "id": "a5c7640f-301f-4d87-9e50-d0c257d0309c",
   "metadata": {},
   "outputs": [
    {
     "name": "stdout",
     "output_type": "stream",
     "text": [
      "The square of 5 is 25\n"
     ]
    }
   ],
   "source": [
    " # ques2 :Declare a square() function with one parameter.Then call the function and pass one number and display the square of that number .\n",
    "#soln:\n",
    "def square(num):\n",
    "    return num ** 2\n",
    "number = 5\n",
    "result = square(number)\n",
    "print(f\"The square of {number} is {result}\")\n"
   ]
  },
  {
   "cell_type": "code",
   "execution_count": 4,
   "id": "5698eb25-8666-47ea-b4fd-967ae81b2e94",
   "metadata": {},
   "outputs": [
    {
     "name": "stdout",
     "output_type": "stream",
     "text": [
      "Random numbers: [26, 56, 43, 16, 21]\n",
      "Maximum number: 56\n",
      "Minimum number: 16\n"
     ]
    }
   ],
   "source": [
    " #ques 3: Using max() and min() functions display the maximum and minimum of 5 random numbers.\n",
    "#soln:\n",
    "import random\n",
    "random_numbers = [random.randint(1, 100) for _ in range(5)]\n",
    "max_number = max(random_numbers)\n",
    "min_number = min(random_numbers)\n",
    "print(f\"Random numbers: {random_numbers}\")\n",
    "print(f\"Maximum number: {max_number}\")\n",
    "print(f\"Minimum number: {min_number}\")"
   ]
  },
  {
   "cell_type": "code",
   "execution_count": 5,
   "id": "057c95c2-0e2b-4c42-bd5c-53e30c08d6b7",
   "metadata": {},
   "outputs": [
    {
     "name": "stdin",
     "output_type": "stream",
     "text": [
      "Please enter your name:  Aaradhya\n"
     ]
    },
    {
     "name": "stdout",
     "output_type": "stream",
     "text": [
      "Your name in lowercase is: aaradhya\n"
     ]
    }
   ],
   "source": [
    " # ques 4 :Accept a name from the user and display that in lower case using lower() function\n",
    "#soln:\n",
    "name = input(\"Please enter your name: \")\n",
    "name_lowercase = name.lower()\n",
    "print(f\"Your name in lowercase is: {name_lowercase}\")\n"
   ]
  },
  {
   "cell_type": "code",
   "execution_count": 6,
   "id": "32b60042-3fcb-42f7-89c6-d78b2860d018",
   "metadata": {},
   "outputs": [
    {
     "name": "stdout",
     "output_type": "stream",
     "text": [
      "'to': 2\n",
      "'change': 2\n",
      "'the': 3\n",
      "'overall': 1\n",
      "'look': 2\n",
      "'of': 1\n",
      "'your': 1\n",
      "'document': 1\n",
      "'available': 1\n",
      "'in': 1\n",
      "'gallery': 1\n"
     ]
    }
   ],
   "source": [
    " #ques 5 :Write a Python program to count the occurrences of each word in a given sentence\n",
    "#string = “To change the overall look of your document. To change the look available in the gallery”E#\n",
    "#soln:\n",
    "string = \"To change the overall look of your document. To change the look available in the gallery\"\n",
    "import string as str_module\n",
    "translator = str.maketrans('', '', str_module.punctuation)\n",
    "cleaned_string = string.translate(translator)\n",
    "words = cleaned_string.lower().split()\n",
    "word_count = {}\n",
    "for word in words:\n",
    "    if word in word_count:\n",
    "        word_count[word] += 1\n",
    "    else:\n",
    "        word_count[word] = 1\n",
    "\n",
    "\n",
    "for word, count in word_count.items():\n",
    "    print(f\"'{word}': {count}\")\n"
   ]
  },
  {
   "cell_type": "code",
   "execution_count": 7,
   "id": "bcdd98b5-e068-44b7-bf93-0046f5729867",
   "metadata": {},
   "outputs": [
    {
     "name": "stdout",
     "output_type": "stream",
     "text": [
      "Cleaned string: Best  Deeptech  Python  Training\n"
     ]
    }
   ],
   "source": [
    "#ques 6: Write a Python program to remove a newline in Python\n",
    "#String = \"\\nBest \\nDeeptech \\nPython \\nTraining\\n\"\n",
    "#soln:\n",
    "string = \"\\nBest \\nDeeptech \\nPython \\nTraining\\n\"\n",
    "cleaned_string = string.replace('\\n', ' ').strip()\n",
    "print(\"Cleaned string:\", cleaned_string)"
   ]
  },
  {
   "cell_type": "code",
   "execution_count": 8,
   "id": "f17f20a8-2054-4c28-a850-97d552c57b23",
   "metadata": {},
   "outputs": [
    {
     "name": "stdout",
     "output_type": "stream",
     "text": [
      "Reversed words string: Training Python Deeptech\n"
     ]
    }
   ],
   "source": [
    "# ques 7:Write a Python program to reverse words in a string\n",
    "#String = “Deeptech Python Training”\n",
    "#soln:\n",
    "string = \"Deeptech Python Training\"\n",
    "words = string.split()\n",
    "reversed_words = words[::-1]\n",
    "reversed_string = ' '.join(reversed_words)\n",
    "\n",
    "print(\"Reversed words string:\", reversed_string)"
   ]
  },
  {
   "cell_type": "code",
   "execution_count": 9,
   "id": "f3113bbc-371c-4d4d-ba6d-94a20f6d4465",
   "metadata": {},
   "outputs": [
    {
     "name": "stdout",
     "output_type": "stream",
     "text": [
      "Vowel 'a' occurs 1 times\n",
      "Vowel 'e' occurs 2 times\n",
      "Vowel 'i' occurs 2 times\n",
      "Vowel 'o' occurs 3 times\n"
     ]
    }
   ],
   "source": [
    "#ques 8: Write a Python program to count and display the vowels of a given text\n",
    "#String=\"Welcome to python Training”\n",
    "#soln:\n",
    "text = \"Welcome to python Training\"\n",
    "vowels = \"aeiouAEIOU\"\n",
    "vowel_count = {vowel: 0 for vowel in vowels}\n",
    "for char in text:\n",
    "    if char in vowel_count:\n",
    "        vowel_count[char] += 1\n",
    "for vowel, count in vowel_count.items():\n",
    "    if count > 0:\n",
    "        print(f\"Vowel '{vowel}' occurs {count} times\")"
   ]
  },
  {
   "cell_type": "code",
   "execution_count": 11,
   "id": "e8647fc0-1271-49e8-8a31-c0fbe052e850",
   "metadata": {},
   "outputs": [
    {
     "name": "stdout",
     "output_type": "stream",
     "text": [
      "Chars = 8\n",
      "Digits = 3\n",
      "Symbols = 4\n"
     ]
    }
   ],
   "source": [
    "#ques9:Write a Python program to Count all letters, digits, and special symbols from the given string\n",
    "#Input = “P@#yn26at^&i5ve”\n",
    "#Output: Chars = 8 Digits = 2 Symbol = 3\n",
    "#soln:\n",
    "def count_characters(text):\n",
    "    # Initialize counters\n",
    "    letter_count = 0\n",
    "    digit_count = 0\n",
    "    symbol_count = 0\n",
    "    \n",
    "    # Define character sets for classification\n",
    "    import string\n",
    "    all_letters = string.ascii_letters\n",
    "    all_digits = string.digits\n",
    "    \n",
    "    # Iterate over each character in the text\n",
    "    for char in text:\n",
    "        if char in all_letters:\n",
    "            letter_count += 1\n",
    "        elif char in all_digits:\n",
    "            digit_count += 1\n",
    "        elif not char.isspace():  # Consider non-whitespace and non-alphanumeric as symbols\n",
    "            symbol_count += 1\n",
    "    \n",
    "    # Return counts\n",
    "    return letter_count, digit_count, symbol_count\n",
    "\n",
    "# Given input\n",
    "input_text = \"P@#yn26at^&i5ve\"\n",
    "\n",
    "# Process the input\n",
    "letters, digits, symbols = count_characters(input_text)\n",
    "\n",
    "# Display the results\n",
    "print(f\"Chars = {letters}\")\n",
    "print(f\"Digits = {digits}\")\n",
    "print(f\"Symbols = {symbols}\")"
   ]
  },
  {
   "cell_type": "code",
   "execution_count": 14,
   "id": "9e25380d-f102-472f-a8ad-5b89e990aefa",
   "metadata": {},
   "outputs": [
    {
     "name": "stdout",
     "output_type": "stream",
     "text": [
      "Output: String and Function\n"
     ]
    }
   ],
   "source": [
    "# ques 10 :Write a Python program to remove duplicate characters of a given string.\n",
    "#Input = “String and String Function”\n",
    "#Output: String and Function\n",
    "#soln:\n",
    "def remove_duplicate_words(text):\n",
    "    words = text.split()\n",
    "    seen = set()\n",
    "    result = []\n",
    "    for word in words:\n",
    "        if word not in seen:\n",
    "            seen.add(word)\n",
    "            result.append(word)\n",
    "    return ' '.join(result)\n",
    "input_text = \"String and String Function\"\n",
    "\n",
    "output_text = remove_duplicate_words(input_text)\n",
    "\n",
    "print(\"Output:\", output_text)\n",
    "\n"
   ]
  },
  {
   "cell_type": "code",
   "execution_count": 13,
   "id": "62ba6f2c-61bf-494b-9cbe-fef21ec72093",
   "metadata": {},
   "outputs": [
    {
     "name": "stdout",
     "output_type": "stream",
     "text": [
      "UpperCase : 5\n",
      "LowerCase : 18\n",
      "NumberCase : 5\n",
      "SpecialCase : 3\n"
     ]
    }
   ],
   "source": [
    "#ques 11:Write a Python program to count Uppercase, Lowercase, special character and numeric values in a given string\n",
    "#Input = “Hell0 W0rld ! 123 * # welcome to pYtHoN”\n",
    "#Output:\n",
    "#UpperCase : 5\n",
    "#LowerCase : 18\n",
    "#NumberCase : 5\n",
    "#SpecialCase : 11\n",
    "#soln:\n",
    "def count_characters(input_string):\n",
    "    uppercase_count = 0\n",
    "    lowercase_count = 0\n",
    "    numeric_count = 0\n",
    "    special_count = 0\n",
    "\n",
    "    for char in input_string:\n",
    "        if char.isupper():\n",
    "            uppercase_count += 1\n",
    "        elif char.islower():\n",
    "            lowercase_count += 1\n",
    "        elif char.isdigit():\n",
    "            numeric_count += 1\n",
    "        elif not char.isspace():  # Special characters (excluding spaces)\n",
    "            special_count += 1\n",
    "\n",
    "    return uppercase_count, lowercase_count, numeric_count, special_count\n",
    "\n",
    "# Test the function\n",
    "input_string = \"Hell0 W0rld ! 123 * # welcome to pYtHoN\"\n",
    "uppercase, lowercase, numeric, special = count_characters(input_string)\n",
    "\n",
    "print(f\"UpperCase : {uppercase}\")\n",
    "print(f\"LowerCase : {lowercase}\")\n",
    "print(f\"NumberCase : {numeric}\")\n",
    "print(f\"SpecialCase : {special}\")\n",
    "\n"
   ]
  },
  {
   "cell_type": "code",
   "execution_count": 12,
   "id": "fa5d9917-8510-4ae8-843c-80e78b6629d5",
   "metadata": {},
   "outputs": [
    {
     "name": "stdout",
     "output_type": "stream",
     "text": [
      "Total vowels are: 8\n"
     ]
    }
   ],
   "source": [
    "# ques 12:Write a Python Count vowels in a string\n",
    "#input= “Welcome to Python Assignment”\n",
    "#Output: Total vowels are: 8\n",
    "#soln:\n",
    "def count_vowels(input_string):\n",
    "    vowels = 'aeiouAEIOU'\n",
    "    count = sum(1 for char in input_string if char in vowels)\n",
    "    return count\n",
    "\n",
    "# Test the function\n",
    "input_string = \"Welcome to Python Assignment\"\n",
    "vowel_count = count_vowels(input_string)\n",
    "print(f\"Total vowels are: {vowel_count}\")\n"
   ]
  },
  {
   "cell_type": "code",
   "execution_count": null,
   "id": "f236b646-3096-4488-9228-e3a0043e66d8",
   "metadata": {},
   "outputs": [],
   "source": []
  }
 ],
 "metadata": {
  "kernelspec": {
   "display_name": "Python 3 (ipykernel)",
   "language": "python",
   "name": "python3"
  },
  "language_info": {
   "codemirror_mode": {
    "name": "ipython",
    "version": 3
   },
   "file_extension": ".py",
   "mimetype": "text/x-python",
   "name": "python",
   "nbconvert_exporter": "python",
   "pygments_lexer": "ipython3",
   "version": "3.12.2"
  }
 },
 "nbformat": 4,
 "nbformat_minor": 5
}
